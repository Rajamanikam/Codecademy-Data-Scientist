{
 "cells": [
  {
   "cell_type": "markdown",
   "id": "09f69f1e-2e89-4261-bc5e-6568e6197f53",
   "metadata": {},
   "source": [
    "PROJECT DESCRIPTION:\n",
    "===================\n",
    "\n",
    "Our favorite online shoe store, ShoeFly.com is performing an A/B Test. They have two different versions of an ad, which they have placed in emails, as well as in banner ads on Facebook, Twitter, and Google. They want to know how the two ads are performing on each of the different platforms on each day of the week. Help them analyze the data using aggregate measures.\n",
    "\n",
    "\n",
    "PROJECT TASKS:\n",
    "==============\n",
    "\n",
    "1. Examine the first few rows of ad_clicks.\r\n",
    "\r\n",
    "2. Your manager wants to know which ad platform is getting you the most views.\r\n",
    "\r\n",
    "How many views (i.e., rows of the table) came from each utm_source?\r\n",
    "\r\n",
    "3. If the column ad_click_timestamp is not null, then someone actually clicked on the ad that was displayed.\r\n",
    "\r\n",
    "Create a new column called is_click, which is True if ad_click_timestamp is not null and False otherwise.\r\n",
    "\r\n",
    "4. We want to know the percent of people who clicked on ads from each utm_source.\r\n",
    "\r\n",
    "Start by grouping by utm_source and is_click and counting the number of user_id‘s in each of those groups. Save your answer to the variable clicks_by_source.\r\n",
    "\r\n",
    "5. Now let’s pivot the data so that the columns are is_click (either True or False), the index is utm_source, and the values are user_id.\r\n",
    "\r\n",
    "Save your results to the variable clicks_pivot.\r\n",
    "\r\n",
    "6. Create a new column in clicks_pivot called percent_clicked which is equal to the percent of users who clicked on the ad from each utm_source.\r\n",
    "\r\n",
    "Was there a difference in click rates for each source?\r\n",
    "\r\n",
    "Analyzing an A/B Test\r\n",
    "\r\n",
    "7. The column experimental_group tells us whether the user was shown Ad A or Ad B.\r\n",
    "\r\n",
    "Were approximately the same number of people shown both ads?\r\n",
    "\r\n",
    "8. Using the column is_click that we defined earlier, check to see if a greater percentage of users clicked on Ad A or Ad B.\r\n",
    "\r\n",
    "9. The Product Manager for the A/B test thinks that the clicks might have changed by day of the week.\r\n",
    "\r\n",
    "Start by creating two DataFrames: a_clicks and b_clicks, which contain only the results for A group and B group, respectively.\r\n",
    "\r\n",
    "10. For each group (a_clicks and b_clicks), calculate the percent of users who clicked on the ad by day.\r\n",
    "\r\n",
    "11. Compare the results for A and B. What happened over the course of the week?\r\n",
    "\r\n",
    "Do you recomme\n",
    "nd that your company use Ad A or Ad B?\n"
   ]
  },
  {
   "cell_type": "code",
   "execution_count": 45,
   "id": "f7f2aee1-4746-40df-85f4-108560f772ad",
   "metadata": {},
   "outputs": [
    {
     "name": "stdout",
     "output_type": "stream",
     "text": [
      "Dataframe structure of Ad_clicks:\n",
      "\n",
      "                                user_id utm_source           day  \\\n",
      "0  008b7c6c-7272-471e-b90e-930d548bd8d7     google  6 - Saturday   \n",
      "1  009abb94-5e14-4b6c-bb1c-4f4df7aa7557   facebook    7 - Sunday   \n",
      "2  00f5d532-ed58-4570-b6d2-768df5f41aed    twitter   2 - Tuesday   \n",
      "3  011adc64-0f44-4fd9-a0bb-f1506d2ad439     google   2 - Tuesday   \n",
      "4  012137e6-7ae7-4649-af68-205b4702169c   facebook    7 - Sunday   \n",
      "\n",
      "  ad_click_timestamp experimental_group  \n",
      "0               7:18                  A  \n",
      "1                NaN                  B  \n",
      "2                NaN                  A  \n",
      "3                NaN                  B  \n",
      "4                NaN                  B  \n"
     ]
    }
   ],
   "source": [
    "\n",
    "import pandas as pd\n",
    "\n",
    "ad_clicks = pd.read_csv('ad_clicks.csv')\n",
    "\n",
    "# Task - 1\n",
    "\n",
    "print(\"Dataframe structure of Ad_clicks:\\n\")\n",
    "print(ad_clicks.head(5))\n"
   ]
  },
  {
   "cell_type": "code",
   "execution_count": 59,
   "id": "cdd8de65-830f-45cc-a847-052b69ac1444",
   "metadata": {},
   "outputs": [
    {
     "name": "stdout",
     "output_type": "stream",
     "text": [
      "\n",
      "Count of Ad clicks thru each UTM source:\n",
      "\n",
      "  utm_source  user_id\n",
      "0      email      255\n",
      "1   facebook      504\n",
      "2     google      680\n",
      "3    twitter      215\n"
     ]
    }
   ],
   "source": [
    "print(\"\\nCount of Ad clicks thru each UTM source:\\n\")\n",
    "\n",
    "# Task - 2: To find count of ad clicks through each utm_source \n",
    "source_count = ad_clicks.groupby('utm_source').user_id.count().reset_index()\n",
    "\n",
    "print(source_count)\n",
    "\n"
   ]
  },
  {
   "cell_type": "code",
   "execution_count": 61,
   "id": "81ea34ec-ec5d-4d13-92f2-3d5d7c7807c5",
   "metadata": {},
   "outputs": [
    {
     "name": "stdout",
     "output_type": "stream",
     "text": [
      "\n",
      "User cliked Ad or not??:\n",
      "\n",
      "                                   user_id utm_source            day  \\\n",
      "0     008b7c6c-7272-471e-b90e-930d548bd8d7     google   6 - Saturday   \n",
      "1     009abb94-5e14-4b6c-bb1c-4f4df7aa7557   facebook     7 - Sunday   \n",
      "2     00f5d532-ed58-4570-b6d2-768df5f41aed    twitter    2 - Tuesday   \n",
      "3     011adc64-0f44-4fd9-a0bb-f1506d2ad439     google    2 - Tuesday   \n",
      "4     012137e6-7ae7-4649-af68-205b4702169c   facebook     7 - Sunday   \n",
      "...                                    ...        ...            ...   \n",
      "1649  fe8b5236-78f6-4192-9da6-a76bba67cfe6    twitter     7 - Sunday   \n",
      "1650  fed3db6d-8c92-40e3-a4fb-1fb9d7337eb1   facebook     5 - Friday   \n",
      "1651  ff3a22ff-521c-478c-87ca-7dc7b8f34372    twitter  3 - Wednesday   \n",
      "1652  ff3af0d6-b092-4c4d-9f2e-2bdd8f7c0732     google     1 - Monday   \n",
      "1653  ffdfe7ec-0c74-4623-8d90-d95d80f1ba34   facebook   6 - Saturday   \n",
      "\n",
      "     ad_click_timestamp experimental_group  is_click  \n",
      "0                  7:18                  A      True  \n",
      "1                   NaN                  B     False  \n",
      "2                   NaN                  A     False  \n",
      "3                   NaN                  B     False  \n",
      "4                   NaN                  B     False  \n",
      "...                 ...                ...       ...  \n",
      "1649                NaN                  A     False  \n",
      "1650                NaN                  B     False  \n",
      "1651                NaN                  B     False  \n",
      "1652              22:57                  A      True  \n",
      "1653                NaN                  B     False  \n",
      "\n",
      "[1654 rows x 6 columns]\n"
     ]
    }
   ],
   "source": [
    "print(\"\\nUser cliked Ad or not??:\\n\")\n",
    "\n",
    "# Task - 3: To check whether the ad is displayed for the user\n",
    "ad_clicks['is_click'] = ad_clicks['ad_click_timestamp'].notna()  #checks for non-null values\n",
    "\n",
    "print(ad_clicks)\n",
    "\n"
   ]
  },
  {
   "cell_type": "code",
   "execution_count": 63,
   "id": "3e00b9a2-6a4b-4ccb-aa1e-f30121716dbb",
   "metadata": {},
   "outputs": [
    {
     "name": "stdout",
     "output_type": "stream",
     "text": [
      "  utm_source  is_click  user_id\n",
      "0      email     False      175\n",
      "1      email      True       80\n",
      "2   facebook     False      324\n",
      "3   facebook      True      180\n",
      "4     google     False      441\n",
      "5     google      True      239\n",
      "6    twitter     False      149\n",
      "7    twitter      True       66\n"
     ]
    }
   ],
   "source": [
    "# Task - 4: No of people who clicked and not clicked on ads from each utm_source\n",
    "\n",
    "clicks_by_source = ad_clicks.groupby(['utm_source','is_click']).user_id.count().reset_index() \n",
    "\n",
    "print(clicks_by_source)\n",
    "\n"
   ]
  },
  {
   "cell_type": "code",
   "execution_count": 65,
   "id": "b5ded875-e914-49c9-885f-041c811fdcec",
   "metadata": {},
   "outputs": [
    {
     "name": "stdout",
     "output_type": "stream",
     "text": [
      "is_click utm_source  False  True\n",
      "0             email    175    80\n",
      "1          facebook    324   180\n",
      "2            google    441   239\n",
      "3           twitter    149    66\n"
     ]
    }
   ],
   "source": [
    "# Task - 5: Pivotting the table\n",
    "\n",
    "clicks_pivot = clicks_by_source.pivot(columns = 'is_click',\n",
    "index='utm_source',\n",
    "values='user_id').reset_index()\n",
    "\n",
    "print(clicks_pivot)\n",
    "\n"
   ]
  },
  {
   "cell_type": "code",
   "execution_count": 67,
   "id": "e0ec8cf8-2752-4a8c-a07b-14cd1b794faa",
   "metadata": {},
   "outputs": [
    {
     "name": "stdout",
     "output_type": "stream",
     "text": [
      "is_click utm_source  False  True  percent_clicked\n",
      "0             email    175    80         0.313725\n",
      "1          facebook    324   180         0.357143\n",
      "2            google    441   239         0.351471\n",
      "3           twitter    149    66         0.306977\n"
     ]
    }
   ],
   "source": [
    "#  Task - 6: Percent of users who clicked on the ad from each utm_source\n",
    "\n",
    "clicks_pivot['percent_clicked'] =  clicks_pivot[True] / (clicks_pivot[True] + clicks_pivot[False])\n",
    "\n",
    "print(clicks_pivot)\n"
   ]
  },
  {
   "cell_type": "code",
   "execution_count": 69,
   "id": "21f8166e-4d62-4cb0-9283-310042e966de",
   "metadata": {},
   "outputs": [
    {
     "name": "stdout",
     "output_type": "stream",
     "text": [
      "  experimental_group  user_id\n",
      "0                  A      827\n",
      "1                  B      827\n"
     ]
    }
   ],
   "source": [
    "# Task - 7: Ad groups view by No of users\n",
    "\n",
    "Ad_group = ad_clicks.groupby('experimental_group').user_id.count().reset_index()\n",
    "\n",
    "print(Ad_group)\n",
    "\n",
    "\n",
    "# so from here we can observe that both ad groups (A & B) are shown to exactly same no of users, i.e 827"
   ]
  },
  {
   "cell_type": "code",
   "execution_count": 73,
   "id": "1ec59d43-a320-475d-b18e-58f58e8bf61f",
   "metadata": {},
   "outputs": [
    {
     "name": "stdout",
     "output_type": "stream",
     "text": [
      "is_click experimental_group  False  True\n",
      "0                         A    517   310\n",
      "1                         B    572   255\n"
     ]
    }
   ],
   "source": [
    "# Task - 8: To see if a greater percentage of users clicked on Ad A or Ad B.\n",
    "\n",
    "Ad_group_percent = ad_clicks.groupby(['experimental_group','is_click']).user_id.count().reset_index().pivot(\n",
    "index = 'experimental_group',\n",
    "columns = 'is_click',\n",
    "values = 'user_id'\n",
    ").reset_index()\n",
    "\n",
    "print(Ad_group_percent)\n",
    "\n",
    "\n",
    "# Therefore, from above observation, we can say that more no of users clicked Ad group A than B.\n"
   ]
  },
  {
   "cell_type": "code",
   "execution_count": 75,
   "id": "656d6ed3-f758-483c-8cbb-c6a2e018c965",
   "metadata": {},
   "outputs": [
    {
     "name": "stdout",
     "output_type": "stream",
     "text": [
      "\n",
      "No of Ad Clicks per day for group A:\n",
      "\n",
      "is_click            day  False  True\n",
      "0            1 - Monday     70    43\n",
      "1           2 - Tuesday     76    43\n",
      "2         3 - Wednesday     86    38\n",
      "3          4 - Thursday     69    47\n",
      "4            5 - Friday     77    51\n",
      "5          6 - Saturday     73    45\n",
      "6            7 - Sunday     66    43\n",
      "\n",
      "No of Ad Clicks per day for group B:\n",
      "\n",
      "is_click            day  False  True\n",
      "0            1 - Monday     81    32\n",
      "1           2 - Tuesday     74    45\n",
      "2         3 - Wednesday     89    35\n",
      "3          4 - Thursday     87    29\n",
      "4            5 - Friday     90    38\n",
      "5          6 - Saturday     76    42\n",
      "6            7 - Sunday     75    34\n"
     ]
    }
   ],
   "source": [
    "# Task - 9: No of clicks by the user for each day of the week\n",
    "\n",
    "\n",
    "a_clicks = ad_clicks[ad_clicks.experimental_group == 'A']   # for slecting rows which contains only 'A' group\n",
    "\n",
    "b_clicks = ad_clicks[ad_clicks.experimental_group == 'B']  # for slecting rows which contains only 'B' group\n",
    "\n",
    "#For A\n",
    "\n",
    "print(\"\\nNo of Ad Clicks per day for group A:\\n\")\n",
    "\n",
    "a_clicks_pivot = a_clicks.groupby(['is_click', 'day']).count().reset_index().pivot(\n",
    "  index = 'day',\n",
    "  columns = 'is_click',\n",
    "  values = 'user_id'\n",
    ").reset_index()\n",
    "\n",
    "print(a_clicks_pivot)\n",
    "\n",
    "\n",
    "#For B\n",
    "\n",
    "print(\"\\nNo of Ad Clicks per day for group B:\\n\")\n",
    "\n",
    "b_clicks_pivot = b_clicks.groupby(['is_click', 'day']).count().reset_index().pivot(\n",
    "  index = 'day',\n",
    "  columns = 'is_click',\n",
    "  values = 'user_id'\n",
    ").reset_index()\n",
    "\n",
    "print(b_clicks_pivot)\n"
   ]
  },
  {
   "cell_type": "code",
   "execution_count": 77,
   "id": "bc9c1fd1-7b23-495d-a4b6-23aff5b18312",
   "metadata": {},
   "outputs": [
    {
     "name": "stdout",
     "output_type": "stream",
     "text": [
      "\n",
      "Percent of Ad Clicks per day for group A:\n",
      "\n",
      "is_click            day  False  True  percent_clicked\n",
      "0            1 - Monday     70    43             71.0\n",
      "1           2 - Tuesday     76    43             77.0\n",
      "2         3 - Wednesday     86    38             87.0\n",
      "3          4 - Thursday     69    47             70.0\n",
      "4            5 - Friday     77    51             78.0\n",
      "5          6 - Saturday     73    45             74.0\n",
      "6            7 - Sunday     66    43             67.0\n",
      "\n",
      "Percent of Ad Clicks per day for group B:\n",
      "\n",
      "is_click            day  False  True  percent_clicked\n",
      "0            1 - Monday     81    32             82.0\n",
      "1           2 - Tuesday     74    45             75.0\n",
      "2         3 - Wednesday     89    35             90.0\n",
      "3          4 - Thursday     87    29             88.0\n",
      "4            5 - Friday     90    38             91.0\n",
      "5          6 - Saturday     76    42             77.0\n",
      "6            7 - Sunday     75    34             76.0\n"
     ]
    }
   ],
   "source": [
    "\n",
    "# Task - 10:Percent of users who clicked on the ad by day\n",
    "\n",
    "\n",
    "#For A\n",
    "\n",
    "print(\"\\nPercent of Ad Clicks per day for group A:\\n\")\n",
    "\n",
    "a_clicks_pivot['percent_clicked'] = a_clicks_pivot[True] / a_clicks_pivot[True] + a_clicks_pivot[False] \n",
    "\n",
    "print(a_clicks_pivot)\n",
    "\n",
    "\n",
    "#For B\n",
    "\n",
    "print(\"\\nPercent of Ad Clicks per day for group B:\\n\")\n",
    "\n",
    "b_clicks_pivot['percent_clicked'] = b_clicks_pivot[True] / b_clicks_pivot[True] + b_clicks_pivot[False] \n",
    "\n",
    "print(b_clicks_pivot)\n"
   ]
  },
  {
   "cell_type": "markdown",
   "id": "f0303faf-ab75-44ee-bfc1-9bfbc5053f6f",
   "metadata": {},
   "source": [
    "# Task - 11: Do you recommend that your company use Ad A or Ad B?\n",
    "\n",
    "From our final observation, we can conclude that Ad \"B\" shows better performance than A, since it has conistent good click-through rate (CTR) percentage over the week, hence it will be the better choice."
   ]
  }
 ],
 "metadata": {
  "kernelspec": {
   "display_name": "Python 3 (ipykernel)",
   "language": "python",
   "name": "python3"
  },
  "language_info": {
   "codemirror_mode": {
    "name": "ipython",
    "version": 3
   },
   "file_extension": ".py",
   "mimetype": "text/x-python",
   "name": "python",
   "nbconvert_exporter": "python",
   "pygments_lexer": "ipython3",
   "version": "3.12.4"
  }
 },
 "nbformat": 4,
 "nbformat_minor": 5
}
